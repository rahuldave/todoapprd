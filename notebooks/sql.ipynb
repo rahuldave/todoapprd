{
 "cells": [
  {
   "cell_type": "code",
   "execution_count": null,
   "id": "f6d0ca37-6bcb-49d3-962c-e6a1079fc301",
   "metadata": {},
   "outputs": [],
   "source": [
    "from todoapp.sql import get_db, unget_db, create_db"
   ]
  },
  {
   "cell_type": "code",
   "execution_count": null,
   "id": "60ce2d65-891e-4753-9fad-0da45cb967a9",
   "metadata": {},
   "outputs": [],
   "source": [
    "from nbdev import show_doc"
   ]
  },
  {
   "cell_type": "code",
   "execution_count": null,
   "id": "36a8b549-5ed4-4d63-b2f8-75914f257dc1",
   "metadata": {},
   "outputs": [
    {
     "data": {
      "text/markdown": [
       "---\n",
       "\n",
       "### get_db\n",
       "\n",
       ">      get_db (dbfile:str)\n",
       "\n",
       "Get a connection to the database"
      ],
      "text/plain": [
       "---\n",
       "\n",
       "### get_db\n",
       "\n",
       ">      get_db (dbfile:str)\n",
       "\n",
       "Get a connection to the database"
      ]
     },
     "execution_count": null,
     "metadata": {},
     "output_type": "execute_result"
    }
   ],
   "source": [
    "show_doc(get_db)"
   ]
  },
  {
   "cell_type": "code",
   "execution_count": null,
   "id": "c2275ee0-84f2-42d9-8105-a82be000c14e",
   "metadata": {},
   "outputs": [
    {
     "data": {
      "text/markdown": [
       "---\n",
       "\n",
       "### unget_db\n",
       "\n",
       ">      unget_db (db:sqlite3.Connection)\n",
       "\n",
       "Close the connection to the database"
      ],
      "text/plain": [
       "---\n",
       "\n",
       "### unget_db\n",
       "\n",
       ">      unget_db (db:sqlite3.Connection)\n",
       "\n",
       "Close the connection to the database"
      ]
     },
     "execution_count": null,
     "metadata": {},
     "output_type": "execute_result"
    }
   ],
   "source": [
    "show_doc(unget_db)"
   ]
  },
  {
   "cell_type": "code",
   "execution_count": null,
   "id": "f2e1f04e-975d-451f-bed5-edfa05f66e76",
   "metadata": {},
   "outputs": [
    {
     "data": {
      "text/markdown": [
       "---\n",
       "\n",
       "### create_db\n",
       "\n",
       ">      create_db (dbfile:str)\n",
       "\n",
       "Get a connection to the database and create the tables"
      ],
      "text/plain": [
       "---\n",
       "\n",
       "### create_db\n",
       "\n",
       ">      create_db (dbfile:str)\n",
       "\n",
       "Get a connection to the database and create the tables"
      ]
     },
     "execution_count": null,
     "metadata": {},
     "output_type": "execute_result"
    }
   ],
   "source": [
    "show_doc(create_db)"
   ]
  }
 ],
 "metadata": {
  "kernelspec": {
   "display_name": "Python 3 (ipykernel)",
   "language": "python",
   "name": "python3"
  }
 },
 "nbformat": 4,
 "nbformat_minor": 5
}
