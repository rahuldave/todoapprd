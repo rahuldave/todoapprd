{
 "cells": [
  {
   "cell_type": "code",
   "execution_count": null,
   "id": "03e7e719-5c55-4718-8626-6c93e05c79bd",
   "metadata": {},
   "outputs": [],
   "source": [
    "from todoapp.app import CategoryIncoming, TodoIncoming, open_db, create_app"
   ]
  },
  {
   "cell_type": "code",
   "execution_count": null,
   "id": "18652790-3af0-40fe-913e-1d069d11431c",
   "metadata": {},
   "outputs": [],
   "source": [
    "from nbdev import show_doc"
   ]
  },
  {
   "cell_type": "code",
   "execution_count": null,
   "id": "064ebb7f-52d2-4ef6-bf17-8d8e661e459f",
   "metadata": {},
   "outputs": [
    {
     "data": {
      "text/markdown": [
       "---\n",
       "\n",
       "### CategoryIncoming\n",
       "\n",
       ">      CategoryIncoming (name:str)\n",
       "\n",
       "A Category Dataclass for incoming data to POST requests"
      ],
      "text/plain": [
       "---\n",
       "\n",
       "### CategoryIncoming\n",
       "\n",
       ">      CategoryIncoming (name:str)\n",
       "\n",
       "A Category Dataclass for incoming data to POST requests"
      ]
     },
     "execution_count": null,
     "metadata": {},
     "output_type": "execute_result"
    }
   ],
   "source": [
    "show_doc(CategoryIncoming)"
   ]
  },
  {
   "cell_type": "code",
   "execution_count": null,
   "id": "7b865463-ed07-48b2-8d6f-f4e46eae9077",
   "metadata": {},
   "outputs": [
    {
     "data": {
      "text/markdown": [
       "---\n",
       "\n",
       "### TodoIncoming\n",
       "\n",
       ">      TodoIncoming (task:str, category_id:int)\n",
       "\n",
       "A Todo Dataclass for incoming data to POST requests"
      ],
      "text/plain": [
       "---\n",
       "\n",
       "### TodoIncoming\n",
       "\n",
       ">      TodoIncoming (task:str, category_id:int)\n",
       "\n",
       "A Todo Dataclass for incoming data to POST requests"
      ]
     },
     "execution_count": null,
     "metadata": {},
     "output_type": "execute_result"
    }
   ],
   "source": [
    "show_doc(TodoIncoming)"
   ]
  },
  {
   "cell_type": "code",
   "execution_count": null,
   "id": "8afd6081-02f2-469d-92f2-1ac54f35acad",
   "metadata": {},
   "outputs": [
    {
     "data": {
      "text/markdown": [
       "---\n",
       "\n",
       "### open_db\n",
       "\n",
       ">      open_db (app:flask.app.Flask)\n",
       "\n",
       "Open a connection to the database and store it in the app object"
      ],
      "text/plain": [
       "---\n",
       "\n",
       "### open_db\n",
       "\n",
       ">      open_db (app:flask.app.Flask)\n",
       "\n",
       "Open a connection to the database and store it in the app object"
      ]
     },
     "execution_count": null,
     "metadata": {},
     "output_type": "execute_result"
    }
   ],
   "source": [
    "show_doc(open_db)"
   ]
  },
  {
   "cell_type": "code",
   "execution_count": null,
   "id": "8e2dcc80-5556-427c-ab3d-3aa553a6b355",
   "metadata": {},
   "outputs": [
    {
     "data": {
      "text/markdown": [
       "---\n",
       "\n",
       "### create_app\n",
       "\n",
       ">      create_app ()\n",
       "\n",
       "Create a Flask app with the configuration from the .env file and set up the routes"
      ],
      "text/plain": [
       "---\n",
       "\n",
       "### create_app\n",
       "\n",
       ">      create_app ()\n",
       "\n",
       "Create a Flask app with the configuration from the .env file and set up the routes"
      ]
     },
     "execution_count": null,
     "metadata": {},
     "output_type": "execute_result"
    }
   ],
   "source": [
    "show_doc(create_app)"
   ]
  }
 ],
 "metadata": {
  "kernelspec": {
   "display_name": "Python 3 (ipykernel)",
   "language": "python",
   "name": "python3"
  }
 },
 "nbformat": 4,
 "nbformat_minor": 5
}
